{
  "nbformat": 4,
  "nbformat_minor": 0,
  "metadata": {
    "colab": {
      "name": "Midterm Exam.ipynb",
      "provenance": [],
      "authorship_tag": "ABX9TyNO8B49kjoLxhs7J0wvF36E",
      "include_colab_link": true
    },
    "kernelspec": {
      "name": "python3",
      "display_name": "Python 3"
    },
    "language_info": {
      "name": "python"
    }
  },
  "cells": [
    {
      "cell_type": "markdown",
      "metadata": {
        "id": "view-in-github",
        "colab_type": "text"
      },
      "source": [
        "<a href=\"https://colab.research.google.com/github/SeanLaurea/Linear-Algebra-58020-for-Computer-Engineers/blob/main/Midterm_Exam.ipynb\" target=\"_parent\"><img src=\"https://colab.research.google.com/assets/colab-badge.svg\" alt=\"Open In Colab\"/></a>"
      ]
    },
    {
      "cell_type": "markdown",
      "metadata": {
        "id": "UuWceBwJBttH"
      },
      "source": [
        "**NUMBER 1**"
      ]
    },
    {
      "cell_type": "code",
      "metadata": {
        "colab": {
          "base_uri": "https://localhost:8080/"
        },
        "id": "Mub7yrF0BmXv",
        "outputId": "cd0315c8-b407-4662-f652-271f567c08b3"
      },
      "source": [
        "import numpy as np\n",
        "G = np.array([[1,2,3,4,5],[6,7,8,9,10],[11,12,13,14,15],[16,17,18,19,20],[0,1,2,3,4]])\n",
        "print(G)"
      ],
      "execution_count": 17,
      "outputs": [
        {
          "output_type": "stream",
          "name": "stdout",
          "text": [
            "[[ 1  2  3  4  5]\n",
            " [ 6  7  8  9 10]\n",
            " [11 12 13 14 15]\n",
            " [16 17 18 19 20]\n",
            " [ 0  1  2  3  4]]\n"
          ]
        }
      ]
    },
    {
      "cell_type": "markdown",
      "metadata": {
        "id": "LrVfstvbB7Dm"
      },
      "source": [
        "**NUMBER 2**"
      ]
    },
    {
      "cell_type": "code",
      "metadata": {
        "colab": {
          "base_uri": "https://localhost:8080/"
        },
        "id": "bDs_90vAB3e-",
        "outputId": "216ef649-3f6a-4f68-ad97-8e1840fe8dac"
      },
      "source": [
        "import numpy as np \n",
        "A = np.array([[1,1,1,1],[0,1,1,1],[0,0,1,1],[0,0,0,1]])\n",
        "print(A)"
      ],
      "execution_count": 6,
      "outputs": [
        {
          "output_type": "stream",
          "name": "stdout",
          "text": [
            "[[1 1 1 1]\n",
            " [0 1 1 1]\n",
            " [0 0 1 1]\n",
            " [0 0 0 1]]\n"
          ]
        }
      ]
    },
    {
      "cell_type": "markdown",
      "metadata": {
        "id": "ZTXmJVVIB-Pl"
      },
      "source": [
        "**NUMBER 3**"
      ]
    },
    {
      "cell_type": "code",
      "metadata": {
        "colab": {
          "base_uri": "https://localhost:8080/"
        },
        "id": "FkB1DPGfB-s9",
        "outputId": "50d5a34c-3198-47d4-a6df-e38cd028b731"
      },
      "source": [
        "import numpy as np\n",
        "\n",
        "u =np.array([[6,1,6],[1,5,2],[6,2,7]])\n",
        "print(u)\n",
        "print(\" \")\n",
        "\n",
        "print(np.transpose(u))"
      ],
      "execution_count": 23,
      "outputs": [
        {
          "output_type": "stream",
          "name": "stdout",
          "text": [
            "[[6 1 6]\n",
            " [1 5 2]\n",
            " [6 2 7]]\n",
            " \n",
            "[[6 1 6]\n",
            " [1 5 2]\n",
            " [6 2 7]]\n"
          ]
        }
      ]
    },
    {
      "cell_type": "markdown",
      "metadata": {
        "id": "SMiqJconCBGV"
      },
      "source": [
        "**NUMBER 4**"
      ]
    },
    {
      "cell_type": "code",
      "metadata": {
        "colab": {
          "base_uri": "https://localhost:8080/"
        },
        "id": "QZANHHcTCBfF",
        "outputId": "1a2a8739-4e51-4379-d16a-3d070b7376d3"
      },
      "source": [
        "r=np.array(([[1,2,3],[2,3,3],[3,4,-2]]))\n",
        "R=(np.linalg.inv(r))\n",
        "print(R)"
      ],
      "execution_count": 16,
      "outputs": [
        {
          "output_type": "stream",
          "name": "stdout",
          "text": [
            "[[-3.6  3.2 -0.6]\n",
            " [ 2.6 -2.2  0.6]\n",
            " [-0.2  0.4 -0.2]]\n"
          ]
        }
      ]
    },
    {
      "cell_type": "markdown",
      "metadata": {
        "id": "3Gs29oNrCD6d"
      },
      "source": [
        "**NUMBER 5**"
      ]
    },
    {
      "cell_type": "code",
      "metadata": {
        "colab": {
          "base_uri": "https://localhost:8080/"
        },
        "id": "g2l662yrCGtO",
        "outputId": "c084c41e-ecc6-4d33-86fc-8a4eacd371af"
      },
      "source": [
        "import numpy as np\n",
        "v = np.array([[1,2,3],[2,3,3],[3,4,-2]])\n",
        "print(v)\n",
        "print(np.linalg.det(v))\n",
        "print(round(np.linalg.det(v)))"
      ],
      "execution_count": 15,
      "outputs": [
        {
          "output_type": "stream",
          "name": "stdout",
          "text": [
            "[[ 1  2  3]\n",
            " [ 2  3  3]\n",
            " [ 3  4 -2]]\n",
            "5.000000000000001\n",
            "5\n"
          ]
        }
      ]
    },
    {
      "cell_type": "markdown",
      "metadata": {
        "id": "jUvswvlhDfJ2"
      },
      "source": [
        "**NUMBER 6**"
      ]
    },
    {
      "cell_type": "code",
      "metadata": {
        "colab": {
          "base_uri": "https://localhost:8080/"
        },
        "id": "QGbkA6CYDhF9",
        "outputId": "0e8039f4-13cd-42b0-9670-2c19a3e15c06"
      },
      "source": [
        "import numpy as np\n",
        "t= np.array([[5,4,1],[10,9,4],[10,13,15]])\n",
        "inv_t = np.linalg.inv(t)\n",
        "print(t)\n",
        "print()\n",
        "print(inv_t)\n",
        "\n",
        "y = np.array([[3,4],[8,8],[19,2]])\n",
        "x = np.dot(inv_t, y)\n",
        "print(\"root = \")\n",
        "print(x)\n",
        "\n",
        "z = np.dot(t, x)\n",
        "print(\"check = \")\n",
        "print(z)"
      ],
      "execution_count": 14,
      "outputs": [
        {
          "output_type": "stream",
          "name": "stdout",
          "text": [
            "[[ 5  4  1]\n",
            " [10  9  4]\n",
            " [10 13 15]]\n",
            "\n",
            "[[ 5.53333333 -3.13333333  0.46666667]\n",
            " [-7.33333333  4.33333333 -0.66666667]\n",
            " [ 2.66666667 -1.66666667  0.33333333]]\n",
            "root = \n",
            "[[ 4.00000000e-01 -2.00000000e+00]\n",
            " [-1.66533454e-15  4.00000000e+00]\n",
            " [ 1.00000000e+00 -2.00000000e+00]]\n",
            "check = \n",
            "[[ 3.  4.]\n",
            " [ 8.  8.]\n",
            " [19.  2.]]\n"
          ]
        }
      ]
    }
  ]
}