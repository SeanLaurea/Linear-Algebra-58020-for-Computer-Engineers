{
  "nbformat": 4,
  "nbformat_minor": 0,
  "metadata": {
    "colab": {
      "name": "Midterm Coding Activity 3.ipynb",
      "provenance": [],
      "authorship_tag": "ABX9TyNYRdqSavPftNpH1ScERpkk",
      "include_colab_link": true
    },
    "kernelspec": {
      "name": "python3",
      "display_name": "Python 3"
    },
    "language_info": {
      "name": "python"
    }
  },
  "cells": [
    {
      "cell_type": "markdown",
      "metadata": {
        "id": "view-in-github",
        "colab_type": "text"
      },
      "source": [
        "<a href=\"https://colab.research.google.com/github/SeanLaurea/Linear-Algebra-58020-for-Computer-Engineers/blob/main/Midterm_Coding_Activity_3.ipynb\" target=\"_parent\"><img src=\"https://colab.research.google.com/assets/colab-badge.svg\" alt=\"Open In Colab\"/></a>"
      ]
    },
    {
      "cell_type": "code",
      "metadata": {
        "colab": {
          "base_uri": "https://localhost:8080/"
        },
        "id": "gynI4AIho3xp",
        "outputId": "f55e4c4a-28c1-4889-b755-9bddd595801a"
      },
      "source": [
        "import numpy as np\n",
        "A = np.array([[5,7,3],[3,5,1],[6,8,2]])\n",
        "B = (np.linalg.inv(A))\n",
        "print (B)"
      ],
      "execution_count": 6,
      "outputs": [
        {
          "output_type": "stream",
          "name": "stdout",
          "text": [
            "[[-0.25 -1.25  1.  ]\n",
            " [ 0.    1.   -0.5 ]\n",
            " [ 0.75 -0.25 -0.5 ]]\n"
          ]
        }
      ]
    },
    {
      "cell_type": "code",
      "metadata": {
        "colab": {
          "base_uri": "https://localhost:8080/"
        },
        "id": "dycTjmpvpi1W",
        "outputId": "39cc4f79-c49b-4751-8b5c-ddd3715c5f78"
      },
      "source": [
        "A = np.array([[5,7,3],[3,5,1],[6,8,2]])\n",
        "print (A)\n",
        "B = np.transpose(A)\n",
        "print (B)"
      ],
      "execution_count": 7,
      "outputs": [
        {
          "output_type": "stream",
          "name": "stdout",
          "text": [
            "[[5 7 3]\n",
            " [3 5 1]\n",
            " [6 8 2]]\n",
            "[[5 3 6]\n",
            " [7 5 8]\n",
            " [3 1 2]]\n"
          ]
        }
      ]
    }
  ]
}