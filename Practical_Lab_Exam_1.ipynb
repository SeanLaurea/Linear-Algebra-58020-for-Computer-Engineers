{
  "nbformat": 4,
  "nbformat_minor": 0,
  "metadata": {
    "colab": {
      "name": "Practical Lab Exam 1.ipynb",
      "provenance": [],
      "authorship_tag": "ABX9TyNYc6U1SxUwjRanSNElfSFE",
      "include_colab_link": true
    },
    "kernelspec": {
      "name": "python3",
      "display_name": "Python 3"
    },
    "language_info": {
      "name": "python"
    }
  },
  "cells": [
    {
      "cell_type": "markdown",
      "metadata": {
        "id": "view-in-github",
        "colab_type": "text"
      },
      "source": [
        "<a href=\"https://colab.research.google.com/github/SeanLaurea/Linear-Algebra-58020-for-Computer-Engineers/blob/main/Practical_Lab_Exam_1.ipynb\" target=\"_parent\"><img src=\"https://colab.research.google.com/assets/colab-badge.svg\" alt=\"Open In Colab\"/></a>"
      ]
    },
    {
      "cell_type": "markdown",
      "metadata": {
        "id": "KwaJAkILLfRz"
      },
      "source": [
        "**PROBLEM 1**"
      ]
    },
    {
      "cell_type": "markdown",
      "metadata": {
        "id": "_wvl58EhLt6h"
      },
      "source": [
        "**Answer for Problem 1 A**"
      ]
    },
    {
      "cell_type": "code",
      "metadata": {
        "colab": {
          "base_uri": "https://localhost:8080/"
        },
        "id": "e7Npmno3PGFE",
        "outputId": "6f25ff93-1eb5-483b-eb4b-06dcd9084f88"
      },
      "source": [
        "import numpy as wr\n",
        "W = wr.array([[1,-3],[2,-2],[3,1]])\n",
        "Y = wr.array ([[1,2,0],[0,-1,-2]])\n",
        "print(np.dot(W,Y))"
      ],
      "execution_count": 58,
      "outputs": [
        {
          "output_type": "stream",
          "name": "stdout",
          "text": [
            "[[ 1  5  6]\n",
            " [ 2  6  4]\n",
            " [ 3  5 -2]]\n"
          ]
        }
      ]
    },
    {
      "cell_type": "markdown",
      "metadata": {
        "id": "hboRcgELMCSh"
      },
      "source": [
        "**Answer for Problem 1 B**"
      ]
    },
    {
      "cell_type": "code",
      "metadata": {
        "colab": {
          "base_uri": "https://localhost:8080/"
        },
        "id": "S3VYiDisQp70",
        "outputId": "1d9960f6-e9fb-4df7-b720-328ba5a8eb67"
      },
      "source": [
        "Z = wr.array([[0,1],[2,3]])\n",
        "Z = wr.array([[0,1],[2,3]])\n",
        "b = Z+Z\n",
        "print(b)"
      ],
      "execution_count": 17,
      "outputs": [
        {
          "output_type": "stream",
          "name": "stdout",
          "text": [
            "[[0 2]\n",
            " [4 6]]\n"
          ]
        }
      ]
    },
    {
      "cell_type": "markdown",
      "metadata": {
        "id": "8aRR615ZMNjJ"
      },
      "source": [
        "**Answer for Problem 1 C**"
      ]
    },
    {
      "cell_type": "code",
      "metadata": {
        "colab": {
          "base_uri": "https://localhost:8080/"
        },
        "id": "UcooZC4FQ8IZ",
        "outputId": "92bd14d4-e8a5-4226-c955-dd32b5a4c705"
      },
      "source": [
        "X = wr.array([[[3,2,1],[-1,2,3],[2,-1,1]]])\n",
        "print(3*X)\n"
      ],
      "execution_count": 21,
      "outputs": [
        {
          "output_type": "stream",
          "name": "stdout",
          "text": [
            "[[[ 9  6  3]\n",
            "  [-3  6  9]\n",
            "  [ 6 -3  3]]]\n"
          ]
        }
      ]
    },
    {
      "cell_type": "markdown",
      "metadata": {
        "id": "Wqr-Zs_gRm4U"
      },
      "source": [
        "**PROBLEM 2**"
      ]
    },
    {
      "cell_type": "markdown",
      "metadata": {
        "id": "9o3dUmDxRsSX"
      },
      "source": [
        "**Problem 2 A**"
      ]
    },
    {
      "cell_type": "code",
      "metadata": {
        "colab": {
          "base_uri": "https://localhost:8080/"
        },
        "id": "-xW9nfbrUXkk",
        "outputId": "37420136-2933-4c40-972c-8a146a181908"
      },
      "source": [
        "Y = wr.array([[1,2,0],[0,-1,2]])\n",
        "W = wr.array([[1,-3],[2,-2],[3,1]])\n",
        "print(np.dot(Y,W)^2)"
      ],
      "execution_count": 61,
      "outputs": [
        {
          "output_type": "stream",
          "name": "stdout",
          "text": [
            "[[ 7 -5]\n",
            " [ 6  6]]\n"
          ]
        }
      ]
    },
    {
      "cell_type": "markdown",
      "metadata": {
        "id": "MVDABjisSUpW"
      },
      "source": [
        "**Problem 2 B**"
      ]
    },
    {
      "cell_type": "code",
      "metadata": {
        "colab": {
          "base_uri": "https://localhost:8080/"
        },
        "id": "STyF-UbPRprP",
        "outputId": "5d7fb447-d682-4380-d60c-d6d68e67832a"
      },
      "source": [
        "d = wr.dot(W,Y)\n",
        "print(wr.subtract(d,X))"
      ],
      "execution_count": 62,
      "outputs": [
        {
          "output_type": "stream",
          "name": "stdout",
          "text": [
            "[[[-2  3 -7]\n",
            "  [ 3  4 -7]\n",
            "  [ 1  6  1]]]\n"
          ]
        }
      ]
    },
    {
      "cell_type": "markdown",
      "metadata": {
        "id": "XQwzQHiPSpwO"
      },
      "source": [
        "**Problem 2 C**"
      ]
    },
    {
      "cell_type": "code",
      "metadata": {
        "colab": {
          "base_uri": "https://localhost:8080/"
        },
        "id": "KSKlgoXvSpXR",
        "outputId": "8bcf7243-31d3-4e98-e36b-fb34eaccaf11"
      },
      "source": [
        "print(wr.dot(Y,W)-Z^2)\n"
      ],
      "execution_count": 63,
      "outputs": [
        {
          "output_type": "stream",
          "name": "stdout",
          "text": [
            "[[ 7 -6]\n",
            " [ 0  3]]\n"
          ]
        }
      ]
    }
  ]
}