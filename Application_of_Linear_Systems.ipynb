{
  "nbformat": 4,
  "nbformat_minor": 0,
  "metadata": {
    "colab": {
      "name": "Application of Linear Systems.ipynb",
      "provenance": [],
      "authorship_tag": "ABX9TyMyAHOJBFEmyAYEW4wMq9y3",
      "include_colab_link": true
    },
    "kernelspec": {
      "name": "python3",
      "display_name": "Python 3"
    },
    "language_info": {
      "name": "python"
    }
  },
  "cells": [
    {
      "cell_type": "markdown",
      "metadata": {
        "id": "view-in-github",
        "colab_type": "text"
      },
      "source": [
        "<a href=\"https://colab.research.google.com/github/SeanLaurea/Linear-Algebra-58020-for-Computer-Engineers/blob/main/Application_of_Linear_Systems.ipynb\" target=\"_parent\"><img src=\"https://colab.research.google.com/assets/colab-badge.svg\" alt=\"Open In Colab\"/></a>"
      ]
    },
    {
      "cell_type": "markdown",
      "metadata": {
        "id": "rqaI7303yAsp"
      },
      "source": [
        "**DEMO 3**"
      ]
    },
    {
      "cell_type": "code",
      "metadata": {
        "colab": {
          "base_uri": "https://localhost:8080/"
        },
        "id": "nDkq0YIpx5xe",
        "outputId": "7aad36cc-4977-4316-d684-34bd06e7fd04"
      },
      "source": [
        "from scipy.linalg import solve\n",
        "\n",
        "A = np.array([[5,2],[4,-11]])\n",
        "print(A)\n",
        "B = np.array([[6],[21]])\n",
        "print(B)\n",
        "\n",
        "X = np.linalg.inv(A).dot(B)\n",
        "print(X)"
      ],
      "execution_count": 5,
      "outputs": [
        {
          "output_type": "stream",
          "name": "stdout",
          "text": [
            "[[  5   2]\n",
            " [  4 -11]]\n",
            "[[ 6]\n",
            " [21]]\n",
            "[[ 1.71428571]\n",
            " [-1.28571429]]\n"
          ]
        }
      ]
    },
    {
      "cell_type": "code",
      "metadata": {
        "colab": {
          "base_uri": "https://localhost:8080/"
        },
        "id": "eiS2OWfFyuYq",
        "outputId": "fc776289-9583-4a6b-92b0-a946f989bd3b"
      },
      "source": [
        "inv_A = np.linalg.inv(A)\n",
        "print(inv_A)\n",
        "\n",
        "X = np.dot(inv_A,B)\n",
        "print(X)"
      ],
      "execution_count": 6,
      "outputs": [
        {
          "output_type": "stream",
          "name": "stdout",
          "text": [
            "[[ 0.17460317  0.03174603]\n",
            " [ 0.06349206 -0.07936508]]\n",
            "[[ 1.71428571]\n",
            " [-1.28571429]]\n"
          ]
        }
      ]
    },
    {
      "cell_type": "code",
      "metadata": {
        "colab": {
          "base_uri": "https://localhost:8080/"
        },
        "id": "P2UY9sMmy4yd",
        "outputId": "2f7a1bdd-9003-47fb-b098-5d09bdd14c1f"
      },
      "source": [
        "X = np.linalg.solve(A,B)\n",
        "print(X)"
      ],
      "execution_count": 7,
      "outputs": [
        {
          "output_type": "stream",
          "name": "stdout",
          "text": [
            "[[ 1.71428571]\n",
            " [-1.28571429]]\n"
          ]
        }
      ]
    },
    {
      "cell_type": "code",
      "metadata": {
        "colab": {
          "base_uri": "https://localhost:8080/"
        },
        "id": "2F5BueOtzRZW",
        "outputId": "47666d57-fdc6-4e59-ed31-d1eaa1f66ee7"
      },
      "source": [
        "from scipy.linalg import solve\n",
        "X = solve(A,B)\n",
        "print(X)"
      ],
      "execution_count": 8,
      "outputs": [
        {
          "output_type": "stream",
          "name": "stdout",
          "text": [
            "[[ 1.71428571]\n",
            " [-1.28571429]]\n"
          ]
        }
      ]
    }
  ]
}