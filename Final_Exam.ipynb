{
  "nbformat": 4,
  "nbformat_minor": 0,
  "metadata": {
    "colab": {
      "name": "Final Exam.ipynb",
      "provenance": [],
      "authorship_tag": "ABX9TyOox7L2GsMVZ1TecA5uHqTz",
      "include_colab_link": true
    },
    "kernelspec": {
      "name": "python3",
      "display_name": "Python 3"
    },
    "language_info": {
      "name": "python"
    }
  },
  "cells": [
    {
      "cell_type": "markdown",
      "metadata": {
        "id": "view-in-github",
        "colab_type": "text"
      },
      "source": [
        "<a href=\"https://colab.research.google.com/github/SeanLaurea/Linear-Algebra-58020-for-Computer-Engineers/blob/main/Final_Exam.ipynb\" target=\"_parent\"><img src=\"https://colab.research.google.com/assets/colab-badge.svg\" alt=\"Open In Colab\"/></a>"
      ]
    },
    {
      "cell_type": "markdown",
      "source": [
        "**FINAL EXAM**"
      ],
      "metadata": {
        "id": "glvMjpVWIM0w"
      }
    },
    {
      "cell_type": "markdown",
      "source": [
        "Problem 1"
      ],
      "metadata": {
        "id": "lbnw7grbLf_N"
      }
    },
    {
      "cell_type": "code",
      "source": [
        "import numpy as np\n",
        "a = np.array([[1, 1, 1],[1, 0, 4],[0, 0, 5]])\n",
        "print(f'Matrix A: {a}')\n",
        "print()\n",
        "b = np.array([[89],[89],[95]])\n",
        "print(f'Matrix B: {a}')\n",
        "C = np.linalg.inv(a).dot(b)\n",
        "print(f'\\nInverse of Matrix A:{c}')"
      ],
      "metadata": {
        "colab": {
          "base_uri": "https://localhost:8080/"
        },
        "id": "XI7Z8pKHLkJH",
        "outputId": "2d1cc76d-5b31-4cbc-a56f-4a33dc8f7860"
      },
      "execution_count": 17,
      "outputs": [
        {
          "output_type": "stream",
          "name": "stdout",
          "text": [
            "Matrix A: [[1 1 1]\n",
            " [1 0 4]\n",
            " [0 0 5]]\n",
            "\n",
            "Matrix B: [[1 1 1]\n",
            " [1 0 4]\n",
            " [0 0 5]]\n",
            "\n",
            "Inverse of Matrix A:[[ 3.01511345e-01 -7.07106781e-01  7.07106781e-01]\n",
            " [-9.04534034e-01  7.07106781e-01  1.53837015e-15]\n",
            " [-3.01511345e-01 -2.26120075e-15  7.07106781e-01]]\n"
          ]
        }
      ]
    },
    {
      "cell_type": "markdown",
      "source": [
        "Problem 2"
      ],
      "metadata": {
        "id": "vWcQh2CwLhtw"
      }
    },
    {
      "cell_type": "code",
      "source": [
        "import numpy as np\n",
        "A = np.array([[3,-1,-1],[9,3,-3],[-12,4,-4]])\n",
        "print(f\"Matrix A: {A}\")\n",
        "\n",
        "inv_A = np.linalg.pinv(A)\n",
        "print(f\"Inverse of Matrix A: {inv_A}\")\n",
        "B = np.array([[5],[10],[-20]])\n",
        "print(f\"Matrix A: {A}\")\n",
        "\n",
        "C = np.dot(inv_A, B)\n",
        "print(f\"Dot Product: {C}\")\n",
        "D = np.dot(A, C)\n",
        "print(f\"Checking: {D}\")"
      ],
      "metadata": {
        "colab": {
          "base_uri": "https://localhost:8080/"
        },
        "id": "DxVHBrVeLkz6",
        "outputId": "4b1c0e80-6ff6-4515-93cb-b4d31ccad12e"
      },
      "execution_count": 15,
      "outputs": [
        {
          "output_type": "stream",
          "name": "stdout",
          "text": [
            "Matrix A: [[  3  -1  -1]\n",
            " [  9   3  -3]\n",
            " [-12   4  -4]]\n",
            "Inverse of Matrix A: [[ 9.19010579e-18  5.55555556e-02 -4.16666667e-02]\n",
            " [-5.00000000e-01  1.66666667e-01 -1.24687564e-16]\n",
            " [-5.00000000e-01  1.12522954e-16 -1.25000000e-01]]\n",
            "Matrix A: [[  3  -1  -1]\n",
            " [  9   3  -3]\n",
            " [-12   4  -4]]\n",
            "Dot Product: [[ 1.38888889e+00]\n",
            " [-8.33333333e-01]\n",
            " [ 2.77555756e-15]]\n",
            "Checking: [[  5.]\n",
            " [ 10.]\n",
            " [-20.]]\n"
          ]
        }
      ]
    },
    {
      "cell_type": "markdown",
      "source": [
        "Problem 3"
      ],
      "metadata": {
        "id": "1BD-r0k2Liv5"
      }
    },
    {
      "cell_type": "code",
      "execution_count": 11,
      "metadata": {
        "colab": {
          "base_uri": "https://localhost:8080/"
        },
        "id": "otqoxxPpIKWh",
        "outputId": "9a1ca1ce-c647-45c3-b2d3-07d3d6bf8c84"
      },
      "outputs": [
        {
          "output_type": "stream",
          "name": "stdout",
          "text": [
            "[[  8   5  -6]\n",
            " [-12  -9  12]\n",
            " [ -3  -3   5]]\n",
            "The Eigenvalues are: \n",
            " [-1.  3.  2.]\n",
            "The Right Eigenvectors are: \n",
            " [[ 0. -1.  1.]\n",
            " [-1.  1.  0.]\n",
            " [-0. -0.  1.]]\n"
          ]
        }
      ],
      "source": [
        "import numpy as np\n",
        "from scipy.linalg import eig\n",
        "a = np.array([[8,5,-6],[-12,-9,12],[-3,-3,5]])\n",
        "print(a)\n",
        "b, c = np.linalg.eig(a)\n",
        "print(\"The Eigenvalues are: \\n\",b)\n",
        "print(\"The Right Eigenvectors are: \\n\",c.round())"
      ]
    }
  ]
}